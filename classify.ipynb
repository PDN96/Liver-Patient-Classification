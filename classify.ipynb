{
 "cells": [
  {
   "cell_type": "markdown",
   "metadata": {},
   "source": [
    "# Classification of Liver Patients\n",
    "\n",
    "Liver Patients are found using ILPD dataset"
   ]
  },
  {
   "cell_type": "markdown",
   "metadata": {},
   "source": [
    "Importing Libraries"
   ]
  },
  {
   "cell_type": "code",
   "execution_count": 6,
   "metadata": {
    "collapsed": true
   },
   "outputs": [],
   "source": [
    "from copy import deepcopy\n",
    "from sklearn.pipeline import Pipeline\n",
    "from sklearn import svm\n",
    "from sklearn.feature_selection import SelectFromModel\n",
    "import numpy as np\n",
    "import csv\n",
    "import pandas as pd\n",
    "from matplotlib import pyplot as plt\n",
    "import warnings\n",
    "warnings.filterwarnings(\"ignore\")"
   ]
  },
  {
   "cell_type": "code",
   "execution_count": 7,
   "metadata": {
    "scrolled": false
   },
   "outputs": [
    {
     "name": "stdout",
     "output_type": "stream",
     "text": [
      "   0   1     2    3    4   5    6    7    8     9   10\n",
      "0  65   0   0.7  0.1  187  16   18  6.8  3.3  0.90   1\n",
      "1  62   1  10.9  5.5  699  64  100  7.5  3.2  0.74   1\n",
      "2  62   1   7.3  4.1  490  60   68  7.0  3.3  0.89   1\n",
      "3  58   1   1.0  0.4  182  14   20  6.8  3.4  1.00   1\n",
      "4  72   1   3.9  2.0  195  27   59  7.3  2.4  0.40   1\n"
     ]
    }
   ],
   "source": [
    "def read_file(filename):\n",
    "    df = pd.read_csv(filename, header = None)\n",
    "    df[1], label1 = pd.factorize(df[1])\n",
    "    return df\n",
    "\n",
    "df = read_file('ILPD.csv')\n",
    "print(df.head(5))\n"
   ]
  },
  {
   "cell_type": "code",
   "execution_count": 8,
   "metadata": {},
   "outputs": [
    {
     "name": "stdout",
     "output_type": "stream",
     "text": [
      "404 175\n"
     ]
    }
   ],
   "source": [
    "def stratified_sampling(df, class1_p, class2_p):\n",
    "    df_yes = df[df[10] == 1]\n",
    "    df_no = df[df[10] == 2]\n",
    "    df_yes[11] = np.random.uniform(0, 1, len(df_yes)) <= float(class1_p / 10)\n",
    "    df_no[11] = np.random.uniform(0, 1, len(df_no)) <= float(class2_p/ 10)\n",
    "    train = pd.DataFrame()\n",
    "    test = pd.DataFrame()\n",
    "    train1 = pd.DataFrame()\n",
    "    train2 = pd.DataFrame()\n",
    "    test1 = pd.DataFrame()\n",
    "    test2 = pd.DataFrame()\n",
    "    train1, test1 = df_yes[df_yes[11] == True], df_yes[df_yes[11] == False]\n",
    "    train2, test2 = df_no[df_no[11] == True], df_no[df_no[11] == False]\n",
    "    train = train1.append(train2)\n",
    "    test = test1.append(test2)\n",
    "    return train, test\n",
    "\n",
    "train, test = stratified_sampling(df, 6, 9)\n",
    "print(len(train), len(test))\n",
    "    "
   ]
  },
  {
   "cell_type": "code",
   "execution_count": 9,
   "metadata": {
    "collapsed": true
   },
   "outputs": [],
   "source": [
    "def calc_metrics(pred, test):\n",
    "    tp = tn = fp = fn = 0\n",
    "    total = 0\n",
    "    for x in test[10]:\n",
    "        if x == pred[total]:\n",
    "            if x == 1:\n",
    "                tp = tp + 1\n",
    "            else:\n",
    "                tn = tn + 1\n",
    "\n",
    "        else:\n",
    "            if x == 1 and pred[total] == 2:\n",
    "                fn = fn + 1\n",
    "            if x == 2 and pred[total] == 1:\n",
    "                fp = fp + 1\n",
    "        total = total + 1\n",
    "\n",
    "    accuracy = (tp + tn) / (tp + tn + fp + fn)\n",
    "    sensitivity = tp / (tp + fn)\n",
    "    specificity = tn / (fp + tn)\n",
    "    precision = tp / (tp + fp)\n",
    "    \n",
    "    return accuracy, sensitivity, specificity, precision"
   ]
  },
  {
   "cell_type": "code",
   "execution_count": 10,
   "metadata": {
    "collapsed": true
   },
   "outputs": [],
   "source": [
    "def get_pred(train, test, kernel):\n",
    "    features = df.columns[0:10]\n",
    "    y = train[10]\n",
    "    C = 1.0\n",
    "    clf = svm.SVC(kernel = kernel, gamma = 0.7, C=C)\n",
    "    clf.fit(train[features], y)\n",
    "    pred = clf.predict(test[features])\n",
    "    \n",
    "    return pred"
   ]
  },
  {
   "cell_type": "code",
   "execution_count": 11,
   "metadata": {},
   "outputs": [
    {
     "name": "stdout",
     "output_type": "stream",
     "text": [
      "0.8971428571428571 1.0 0.0 0.8971428571428571\n"
     ]
    }
   ],
   "source": [
    "pred_rbf = get_pred(train, test, 'rbf')\n",
    "acc, sens, spec, prec = calc_metrics(pred_rbf, test)\n",
    "print(acc, sens, spec, prec)"
   ]
  },
  {
   "cell_type": "code",
   "execution_count": 51,
   "metadata": {},
   "outputs": [],
   "source": [
    "def get_all_metrics(kernel, runs):\n",
    "    all_acc = list()\n",
    "    all_sens = list()\n",
    "    all_spec = list()\n",
    "    all_prec = list()\n",
    "    for i in range(4, 10):\n",
    "        acc_i = list()\n",
    "        sens_i = list()\n",
    "        spec_i = list()\n",
    "        prec_i = list()\n",
    "        for j in range(4, 10):\n",
    "            acc = list()\n",
    "            sens = list()\n",
    "            spec = list()\n",
    "            prec = list()\n",
    "            for k in range(runs):\n",
    "                train, test = stratified_sampling(df, i, j)\n",
    "                pred = get_pred(train, test, kernel)\n",
    "                a, s, sp, p = calc_metrics(pred, test)\n",
    "                #print(acc, sens, spec, prec)\n",
    "                acc.append(a)\n",
    "                sens.append(s)\n",
    "                spec.append(sp)\n",
    "                prec.append(p)\n",
    "            acc_i.append(np.mean(acc))\n",
    "            sens_i.append(np.mean(sens))\n",
    "            spec_i.append(np.mean(spec))\n",
    "            prec_i.append(np.mean(prec))\n",
    "        all_acc.append(acc_i)\n",
    "        all_sens.append(sens_i)\n",
    "        all_spec.append(spec_i)\n",
    "        all_prec.append(prec_i)\n",
    "    return all_acc, all_sens, all_spec, all_prec         "
   ]
  },
  {
   "cell_type": "code",
   "execution_count": 52,
   "metadata": {},
   "outputs": [
    {
     "data": {
      "image/png": "[encoded data removed]",
      "text/plain": [
       "<matplotlib.figure.Figure at 0x25e78565f98>"
      ]
     },
     "metadata": {},
     "output_type": "display_data"
    }
   ],
   "source": [
    "i = [40,50,60,70,80,90]\n",
    "j = [40,50,60,70,80,90]\n",
    "\n",
    "a, s, sp, pr = get_all_metrics('rbf', 10)\n",
    "\n",
    "max_rbf = 0\n",
    "for k in range(0,6):\n",
    "    for l in range(0,6):\n",
    "        a[k][l] = a[k][l]*100\n",
    "        if a[k][l]>max_rbf:\n",
    "            max_rbf = a[k][l]\n",
    "\n",
    "for k in range(0,6):\n",
    "        plt.plot(i, a[k], 'o-', label=\"Class 1 samples in training data = \" +str(i[k])+ \"%\")\n",
    "plt.ylabel(\"Accuracy\")\n",
    "plt.xlabel(\"Percentage of class 2 samples in training data\")\n",
    "plt.legend()\n",
    "plt.show()"
   ]
  },
  {
   "cell_type": "code",
   "execution_count": 54,
   "metadata": {},
   "outputs": [
    {
     "name": "stdout",
     "output_type": "stream",
     "text": [
      "Maximum accuracy achieved with rbf kernel:  94.2730940689 %\n"
     ]
    }
   ],
   "source": [
    "print(\"Maximum accuracy achieved with rbf kernel: \",max_rbf,\"%\")"
   ]
  }
 ],
 "metadata": {
  "kernelspec": {
   "display_name": "Python 3",
   "language": "python",
   "name": "python3"
  },
  "language_info": {
   "codemirror_mode": {
    "name": "ipython",
    "version": 3
   },
   "file_extension": ".py",
   "mimetype": "text/x-python",
   "name": "python",
   "nbconvert_exporter": "python",
   "pygments_lexer": "ipython3",
   "version": "3.6.1"
  }
 },
 "nbformat": 4,
 "nbformat_minor": 2
}
