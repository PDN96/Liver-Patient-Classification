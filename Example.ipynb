{
 "cells": [
  {
   "cell_type": "markdown",
   "metadata": {},
   "source": [
    "# Classification of Liver Patients\n",
    "\n",
    "Liver Patients are found using ILPD dataset"
   ]
  },
  {
   "cell_type": "markdown",
   "metadata": {},
   "source": [
    "Importing Libraries"
   ]
  },
  {
   "cell_type": "code",
   "execution_count": 3,
   "metadata": {
    "collapsed": true
   },
   "outputs": [],
   "source": [
    "from copy import deepcopy\n",
    "from sklearn.pipeline import Pipeline\n",
    "from sklearn import svm\n",
    "from sklearn.feature_selection import SelectFromModel\n",
    "import numpy as np\n",
    "import csv\n",
    "import pandas as pd\n",
    "from matplotlib import pyplot as plt"
   ]
  },
  {
   "cell_type": "code",
   "execution_count": 52,
   "metadata": {
    "scrolled": false
   },
   "outputs": [
    {
     "name": "stdout",
     "output_type": "stream",
     "text": [
      "   0   1     2    3    4   5    6    7    8     9   10\n",
      "0  65   0   0.7  0.1  187  16   18  6.8  3.3  0.90   1\n",
      "1  62   1  10.9  5.5  699  64  100  7.5  3.2  0.74   1\n",
      "2  62   1   7.3  4.1  490  60   68  7.0  3.3  0.89   1\n",
      "3  58   1   1.0  0.4  182  14   20  6.8  3.4  1.00   1\n",
      "4  72   1   3.9  2.0  195  27   59  7.3  2.4  0.40   1\n"
     ]
    }
   ],
   "source": [
    "def read_file(filename):\n",
    "    df = pd.read_csv(filename, header = None)\n",
    "    df[1], label1 = pd.factorize(df[1])\n",
    "    return df\n",
    "\n",
    "df = read_file('ILPD.csv')\n",
    "print(df.head(5))\n"
   ]
  },
  {
   "cell_type": "code",
   "execution_count": 71,
   "metadata": {},
   "outputs": [
    {
     "name": "stdout",
     "output_type": "stream",
     "text": [
      "413 166\n"
     ]
    },
    {
     "name": "stderr",
     "output_type": "stream",
     "text": [
      "C:\\Users\\Prashil\\Anaconda3\\lib\\site-packages\\ipykernel_launcher.py:4: SettingWithCopyWarning: \n",
      "A value is trying to be set on a copy of a slice from a DataFrame.\n",
      "Try using .loc[row_indexer,col_indexer] = value instead\n",
      "\n",
      "See the caveats in the documentation: http://pandas.pydata.org/pandas-docs/stable/indexing.html#indexing-view-versus-copy\n",
      "  after removing the cwd from sys.path.\n",
      "C:\\Users\\Prashil\\Anaconda3\\lib\\site-packages\\ipykernel_launcher.py:5: SettingWithCopyWarning: \n",
      "A value is trying to be set on a copy of a slice from a DataFrame.\n",
      "Try using .loc[row_indexer,col_indexer] = value instead\n",
      "\n",
      "See the caveats in the documentation: http://pandas.pydata.org/pandas-docs/stable/indexing.html#indexing-view-versus-copy\n",
      "  \"\"\"\n"
     ]
    }
   ],
   "source": [
    "def stratified_sampling(df, class1_p, class2_p):\n",
    "    df_yes = df[df[10] == 1]\n",
    "    df_no = df[df[10] == 2]\n",
    "    df_yes[11] = np.random.uniform(0, 1, len(df_yes)) <= float(class1_p / 10)\n",
    "    df_no[11] = np.random.uniform(0, 1, len(df_no)) <= float(class2_p/ 10)\n",
    "    train = pd.DataFrame()\n",
    "    test = pd.DataFrame()\n",
    "    train1 = pd.DataFrame()\n",
    "    train2 = pd.DataFrame()\n",
    "    test1 = pd.DataFrame()\n",
    "    test2 = pd.DataFrame()\n",
    "    train1, test1 = df_yes[df_yes[11] == True], df_yes[df_yes[11] == False]\n",
    "    train2, test2 = df_no[df_no[11] == True], df_no[df_no[11] == False]\n",
    "    train = train1.append(train2)\n",
    "    test = test1.append(test2)\n",
    "    return train, test\n",
    "\n",
    "train, test = stratified_sampling(df, 6, 9)\n",
    "print(len(train), len(test))\n",
    "    "
   ]
  },
  {
   "cell_type": "code",
   "execution_count": 72,
   "metadata": {
    "collapsed": true
   },
   "outputs": [],
   "source": [
    "def calc_metrics(pred, test):\n",
    "    tp = tn = fp = fn = 0\n",
    "    total = 0\n",
    "    for x in test[10]:\n",
    "        if x == pred[total]:\n",
    "            if x == 1:\n",
    "                tp = tp + 1\n",
    "            else:\n",
    "                tn = tn + 1\n",
    "\n",
    "        else:\n",
    "            if x == 1 and pred[total] == 2:\n",
    "                fn = fn + 1\n",
    "            if x == 2 and pred[total] == 1:\n",
    "                fp = fp + 1\n",
    "        total = total + 1\n",
    "\n",
    "    accuracy = (tp + tn) / (tp + tn + fp + fn)\n",
    "    sensitivity = tp / (tp + fn)\n",
    "    specificity = tn / (fp + tn)\n",
    "    precision = tp / (tp + fp)\n",
    "    \n",
    "    return accuracy, sensitivity, specificity, precision"
   ]
  },
  {
   "cell_type": "code",
   "execution_count": 73,
   "metadata": {
    "collapsed": true
   },
   "outputs": [],
   "source": [
    "def get_pred(train, test, kernel):\n",
    "    features = df.columns[0:10]\n",
    "    y = train[10]\n",
    "    C = 1.0\n",
    "    clf = svm.SVC(kernel = kernel, gamma = 0.7, C=C)\n",
    "    clf.fit(train[features], y)\n",
    "    pred = clf.predict(test[features])\n",
    "    \n",
    "    return pred"
   ]
  },
  {
   "cell_type": "code",
   "execution_count": 74,
   "metadata": {},
   "outputs": [
    {
     "name": "stdout",
     "output_type": "stream",
     "text": [
      "0.927710843373494 1.0 0.0 0.927710843373494\n"
     ]
    }
   ],
   "source": [
    "pred_rbf = get_pred(train, test, 'rbf')\n",
    "acc, sens, spec, prec = calc_metrics(pred_rbf, test)\n",
    "print(acc, sens, spec, prec)"
   ]
  },
  {
   "cell_type": "code",
   "execution_count": 75,
   "metadata": {},
   "outputs": [
    {
     "name": "stderr",
     "output_type": "stream",
     "text": [
      "C:\\Users\\Prashil\\Anaconda3\\lib\\site-packages\\ipykernel_launcher.py:4: SettingWithCopyWarning: \n",
      "A value is trying to be set on a copy of a slice from a DataFrame.\n",
      "Try using .loc[row_indexer,col_indexer] = value instead\n",
      "\n",
      "See the caveats in the documentation: http://pandas.pydata.org/pandas-docs/stable/indexing.html#indexing-view-versus-copy\n",
      "  after removing the cwd from sys.path.\n",
      "C:\\Users\\Prashil\\Anaconda3\\lib\\site-packages\\ipykernel_launcher.py:5: SettingWithCopyWarning: \n",
      "A value is trying to be set on a copy of a slice from a DataFrame.\n",
      "Try using .loc[row_indexer,col_indexer] = value instead\n",
      "\n",
      "See the caveats in the documentation: http://pandas.pydata.org/pandas-docs/stable/indexing.html#indexing-view-versus-copy\n",
      "  \"\"\"\n"
     ]
    },
    {
     "name": "stdout",
     "output_type": "stream",
     "text": [
      "[[0.71448627373482865, 0.75437731409391329, 0.79601702015495124, 0.82609589041095888, 0.88316041400395962, 0.93989672204759767], [0.693084693084693, 0.72282479848269321, 0.77256299275710805, 0.82184139784946242, 0.86172335600907024, 0.92116493301327429], [0.62689393939393945, 0.69589340082902318, 0.71074762425363724, 0.73812243033348568, 0.85864393338620149, 0.90048765997475066], [0.56806195216164013, 0.59764430428134552, 0.69819514946418493, 0.73122560745310339, 0.7803408399269629, 0.88131313131313127], [0.49406283499628928, 0.46522435897435899, 0.56887366818873675, 0.65861344537815125, 0.72342675832892644, 0.84892739273927398], [0.35115546218487392, 0.38915715539947326, 0.39632178049609246, 0.52551020408163263, 0.61462450592885376, 0.72692307692307689]]\n"
     ]
    }
   ],
   "source": [
    "def get_all_metrics(kernel):\n",
    "    all_acc = list()\n",
    "    all_sens = list()\n",
    "    all_spec = list()\n",
    "    all_prec = list()\n",
    "    for i in range(4, 10):\n",
    "        acc_i = list()\n",
    "        sens_i = list()\n",
    "        spec_i = list()\n",
    "        prec_i = list()\n",
    "        for j in range(4, 10):\n",
    "            acc = list()\n",
    "            sens = list()\n",
    "            spec = list()\n",
    "            prec = list()\n",
    "            for k in range(2):\n",
    "                train, test = stratified_sampling(df, i, j)\n",
    "                pred = get_pred(train, test, kernel)\n",
    "                a, s, sp, p = calc_metrics(pred, test)\n",
    "                #print(acc, sens, spec, prec)\n",
    "                acc.append(a)\n",
    "                sens.append(s)\n",
    "                spec.append(sp)\n",
    "                prec.append(p)\n",
    "            acc_i.append(np.mean(acc))\n",
    "            sens_i.append(np.mean(sens))\n",
    "            spec_i.append(np.mean(spec))\n",
    "            prec_i.append(np.mean(prec))\n",
    "        all_acc.append(acc_i)\n",
    "        all_sens.append(sens_i)\n",
    "        all_spec.append(spec_i)\n",
    "        all_prec.append(prec_i)\n",
    "    return all_acc, all_sens, all_spec, all_prec\n",
    "\n",
    "a, s, sp, pr = get_all_metrics('rbf')\n",
    "print(a)         "
   ]
  },
  {
   "cell_type": "code",
   "execution_count": null,
   "metadata": {
    "collapsed": true
   },
   "outputs": [],
   "source": []
  }
 ],
 "metadata": {
  "kernelspec": {
   "display_name": "Python 3",
   "language": "python",
   "name": "python3"
  },
  "language_info": {
   "codemirror_mode": {
    "name": "ipython",
    "version": 3
   },
   "file_extension": ".py",
   "mimetype": "text/x-python",
   "name": "python",
   "nbconvert_exporter": "python",
   "pygments_lexer": "ipython3",
   "version": "3.6.1"
  }
 },
 "nbformat": 4,
 "nbformat_minor": 2
}
